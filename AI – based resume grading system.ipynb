{
 "cells": [
  {
   "cell_type": "code",
   "execution_count": 1,
   "id": "bb7a6814-7213-4c96-b6d4-ff4e1a5d00b0",
   "metadata": {},
   "outputs": [],
   "source": [
    "#importing libraries \n",
    "\n",
    "import re\n",
    "import numpy as np\n",
    "from collections import Counter\n",
    "import nltk\n",
    "from nltk.corpus import stopwords\n",
    "from nltk.tokenize import word_tokenize"
   ]
  },
  {
   "cell_type": "code",
   "execution_count": 2,
   "id": "c1850ad2-41ff-48c2-b806-bae52db8c4a5",
   "metadata": {},
   "outputs": [
    {
     "name": "stderr",
     "output_type": "stream",
     "text": [
      "[nltk_data] Downloading package punkt to\n",
      "[nltk_data]     C:\\Users\\leonm_nn4oywt\\AppData\\Roaming\\nltk_data...\n",
      "[nltk_data]   Package punkt is already up-to-date!\n",
      "[nltk_data] Downloading package stopwords to\n",
      "[nltk_data]     C:\\Users\\leonm_nn4oywt\\AppData\\Roaming\\nltk_data...\n",
      "[nltk_data]   Package stopwords is already up-to-date!\n"
     ]
    },
    {
     "data": {
      "text/plain": [
       "True"
      ]
     },
     "execution_count": 2,
     "metadata": {},
     "output_type": "execute_result"
    }
   ],
   "source": [
    "# Downloading the required NLTK resources \n",
    "nltk.download('punkt')\n",
    "nltk.download('stopwords')"
   ]
  },
  {
   "cell_type": "code",
   "execution_count": 3,
   "id": "481a8a2e-84f6-4bd2-899c-aca2e4570e31",
   "metadata": {},
   "outputs": [],
   "source": [
    "# Preprocessing function: lowercase, remove non-alphabetic chars, tokenize, remove stopwords\n",
    "def preprocess_text(text):\n",
    "    text = text.lower()\n",
    "    text = re.sub(r'[^a-z ]', ' ', text)\n",
    "    tokens = word_tokenize(text)\n",
    "    stop_words = set(stopwords.words('english'))\n",
    "    filtered_tokens = [t for t in tokens if t not in stop_words and len(t) > 1]\n",
    "    return filtered_tokens"
   ]
  },
  {
   "cell_type": "code",
   "execution_count": 4,
   "id": "7745b889-7fea-49b1-aabb-72457c69938e",
   "metadata": {},
   "outputs": [],
   "source": [
    "# Extract keywords function (most common words)\n",
    "def extract_keywords(text, top_n=20):\n",
    "    tokens = preprocess_text(text)\n",
    "    frequency = Counter(tokens)\n",
    "    return frequency.most_common(top_n)"
   ]
  },
  {
   "cell_type": "code",
   "execution_count": 5,
   "id": "c49b1f23-c027-4500-a2fc-39f5949ee5af",
   "metadata": {},
   "outputs": [],
   "source": [
    "# Compute skill match score between resume tokens and job description tokens\n",
    "def skill_match(resume_tokens, job_tokens):\n",
    "    resume_set = set(resume_tokens)\n",
    "    job_set = set(job_tokens)\n",
    "    matched_skills = resume_set.intersection(job_set)\n",
    "    score = len(matched_skills) / len(job_set) if len(job_set) > 0 else 0\n",
    "    return score, matched_skills"
   ]
  },
  {
   "cell_type": "code",
   "execution_count": 6,
   "id": "c63bc4e2-a9ee-43f2-9882-3a7c37286cb1",
   "metadata": {},
   "outputs": [],
   "source": [
    "#Defining the job descriptions\n",
    "\n",
    "job_descriptions = {\n",
    "    \"data scientist\": \"\"\"\n",
    "- Proficiency in Python, R, and SQL\n",
    "- Expertise in machine learning algorithms and statistical modeling\n",
    "- Experience with data visualization tools like Tableau or PowerBI\n",
    "- Strong understanding of data cleaning and preprocessing\n",
    "- Ability to communicate insights effectively\n",
    "\"\"\",\n",
    "    \"software engineer\": \"\"\"\n",
    "- Strong programming skills in Java, C++, or PythonAA\n",
    "- Experience with software development lifecycle and Agile methodologies\n",
    "- Familiarity with version control systems like Git\n",
    "- Knowledge of databases and SQL\n",
    "- Ability to write clean, efficient, and maintainable code\n",
    "\"\"\",\n",
    "    \"project manager\": \"\"\"\n",
    "- Experience in managing software development projects\n",
    "- Proficiency with project management tools like JIRA or Trello\n",
    "- Strong leadership and communication skills\n",
    "- Ability to manage timelines, budgets, and resources\n",
    "- Understanding of Agile and Scrum methodologies\n",
    "\"\"\",\n",
    "    \"ai engineer\": \"\"\"\n",
    "- Strong programming skills in Python, Java, or C++\n",
    "- Expertise in machine learning, deep learning, and neural networks\n",
    "- Experience with frameworks like TensorFlow, PyTorch, or Keras\n",
    "- Knowledge of data preprocessing, feature engineering, and model deployment\n",
    "- Understanding of cloud platforms (AWS, GCP, Azure) for AI solutions\n",
    "\"\"\",\n",
    "    \n",
    "    \"web developer\": \"\"\"\n",
    "- Proficiency in HTML, CSS, and JavaScript\n",
    "- Experience with frontend frameworks like React, Angular, or Vue.js\n",
    "- Knowledge of backend technologies such as Node.js, Express, PHP, or Django\n",
    "- Familiarity with databases (SQL and NoSQL) and RESTful APIs\n",
    "- Version control experience with Git and collaboration tools\n",
    "\"\"\",\n",
    "\n",
    "    \"front end developer\": \"\"\"\n",
    "- Expertise in HTML5, CSS3, JavaScript (ES6+)\n",
    "- Experience with frontend frameworks/libraries like React, Angular, or Vue.js\n",
    "- Knowledge of responsive design and cross-browser compatibility\n",
    "- Familiarity with tools like Webpack, Babel, and NPM/Yarn\n",
    "- Ability to translate UI/UX designs into functional user interfaces\n",
    "\"\"\",\n",
    "\n",
    "    \"back end developer\": \"\"\"\n",
    "- Strong knowledge of server-side languages such as Node.js, Python, Ruby, Java, or PHP\n",
    "- Experience with database management using SQL and NoSQL databases\n",
    "- Understanding of RESTful API design and development\n",
    "- Familiarity with authentication, security, and data protection best practices\n",
    "- Version control proficiency with Git and deployment experience\n",
    "\"\"\",\n",
    "\n",
    "    \"web designer\": \"\"\"\n",
    "- Proficient in graphic design tools such as Adobe Photoshop, Illustrator, or Sketch\n",
    "- Strong knowledge of UI/UX design principles and wireframing\n",
    "- Experience creating responsive web layouts with HTML and CSS\n",
    "- Understanding of color theory, typography, and branding\n",
    "- Ability to collaborate with developers to implement visual designs\n",
    "\"\"\",\n",
    "\n",
    "    \"full stack developer\": \"\"\"\n",
    "- Experience with both frontend and backend technologies (e.g., React, Angular, Node.js, Django)\n",
    "- Proficient in multiple programming languages such as JavaScript, Python, Java, or C#\n",
    "- Knowledge of database systems including SQL and NoSQL\n",
    "- Familiar with cloud services and CI/CD pipelines\n",
    "- Strong understanding of RESTful APIs, version control, and software development lifecycle\n",
    "\"\"\"\n",
    "}"
   ]
  },
  {
   "cell_type": "code",
   "execution_count": null,
   "id": "01d22f39-faba-4b67-9f11-26aea3fd7174",
   "metadata": {},
   "outputs": [],
   "source": []
  },
  {
   "cell_type": "code",
   "execution_count": 7,
   "id": "b7b55a13-eb58-4f7f-8d78-516b00dd6259",
   "metadata": {},
   "outputs": [],
   "source": [
    "#Defining sample resumes\n",
    "\n",
    "# sample_resumes = {\n",
    "#     \"resume_1\": \"\"\"\n",
    "#     Emily Clark\n",
    "#     Seasoned Data Scientist with extensive experience in Python, R, and SQL programming. Proficient in developing and deploying machine learning models including classification, regression, and clustering techniques. Skilled in statistical modeling and data analysis to deliver actionable insights.\n",
    "#     Experience using popular data visualization tools such as Tableau and PowerBI to communicate complex results to stakeholders. Well-versed in data cleaning, preprocessing, and feature engineering to improve model accuracy. Adept at collaborating with cross-functional teams to support business goals.\n",
    "#     Strong communication skills and ability to translate technical findings into business recommendations.\n",
    "#     \"\"\",\n",
    "#     \"resume_2\": \"\"\"\n",
    "#     Jane Smith\n",
    "#     Software engineer with expertise in Java, C++, and Python. Experienced in Agile software development lifecycle.\n",
    "#     Proficient with Git version control and writing clean, maintainable code.\n",
    "#     Knowledgeable in SQL databases.\n",
    "#     \"\"\",\n",
    "#     \"resume_3\": \"\"\"\n",
    "#     Mark Johnson\n",
    "#     Project manager experienced in leading software development teams.\n",
    "#     Proficient with JIRA, Trello as project management tools.\n",
    "#     Strong leadership and communication skills.\n",
    "#     Skilled in managing project timelines, budgets, and resources.\n",
    "#     Knowledge of Agile and Scrum methodologies.\n",
    "#     \"\"\"\n",
    "# }"
   ]
  },
  {
   "cell_type": "markdown",
   "id": "eb35522f-e3ab-4a48-82a0-39f39681f545",
   "metadata": {},
   "source": [
    "# Defining the resume Grading Function"
   ]
  },
  {
   "cell_type": "code",
   "execution_count": 8,
   "id": "dc06308e-52a9-4794-9e7d-20f98a3a777d",
   "metadata": {},
   "outputs": [],
   "source": [
    "def grade_resume_for_role(resume_text, job_role):\n",
    "    if job_role not in job_descriptions:\n",
    "        return f\"Job role '{job_role}' not found in job descriptions.\", None\n",
    "    # Preprocess texts\n",
    "    resume_tokens = preprocess_text(resume_text)\n",
    "    job_tokens = preprocess_text(job_descriptions[job_role])\n",
    "\n",
    "    # Compute skill match\n",
    "    score, matched_skills = skill_match(resume_tokens, job_tokens)\n",
    "\n",
    "    # Assign grade based on score\n",
    "    if score > 0.75:\n",
    "        grade = 'A'\n",
    "        feedback = 'Excellent match. Your resume covers most required skills.'\n",
    "    elif score > 0.5:\n",
    "        grade = 'B'\n",
    "        feedback = 'Good match. Consider improving on some key skills.'\n",
    "    elif score > 0.3:\n",
    "        grade = 'C'\n",
    "        feedback = 'Fair match. Add more relevant skills and experience.'\n",
    "    else:\n",
    "        grade = 'D'\n",
    "        feedback = 'Poor match. Resume lacks many important skills for this role.'\n",
    "\n",
    "    matched_skills_str = ', '.join(sorted(matched_skills)) if matched_skills else 'None'\n",
    "\n",
    "    result = {\n",
    "        'Job Role': job_role,\n",
    "        'Grade': grade,\n",
    "        'Skill Match Score': round(score, 2),\n",
    "        'Matched Skills': matched_skills_str,\n",
    "        'Feedback': feedback\n",
    "    }\n",
    "    return result"
   ]
  },
  {
   "cell_type": "code",
   "execution_count": 9,
   "id": "599eeaa3-d88c-4735-8207-8445b76fb616",
   "metadata": {},
   "outputs": [],
   "source": [
    "# Testing the model"
   ]
  },
  {
   "cell_type": "code",
   "execution_count": 10,
   "id": "40991d9d-a069-4142-96c5-46333eef83eb",
   "metadata": {},
   "outputs": [],
   "source": [
    "# #Test the System with Sample Resumes and Job Roles\n",
    "\n",
    "# for resume_name, resume_text in sample_resumes.items():\n",
    "#     print(f\"\\n--- Analysis results for {resume_name} ---\")\n",
    "#     for role in job_descriptions.keys():\n",
    "#         result = grade_resume_for_role(resume_text, role)\n",
    "#         if isinstance(result, dict):\n",
    "#             print(f\"\\nJob Role: {result['Job Role']}\")\n",
    "#             print(f\"Grade: {result['Grade']}\")\n",
    "#             print(f\"Skill Match Score: {result['Skill Match Score']}\")\n",
    "#             print(f\"Matched Skills: {result['Matched Skills']}\")\n",
    "#             print(f\"Feedback: {result['Feedback']}\")\n",
    "#         else:\n",
    "#             print(result)"
   ]
  },
  {
   "cell_type": "markdown",
   "id": "845388d4-5349-4b9d-9316-864931df95a9",
   "metadata": {},
   "source": [
    "# Enhancing my resume grade checker to take pdf's to grade accordingly"
   ]
  },
  {
   "cell_type": "code",
   "execution_count": 11,
   "id": "eee7a952-5515-4ca0-996a-e4e5b10440a6",
   "metadata": {},
   "outputs": [
    {
     "name": "stdout",
     "output_type": "stream",
     "text": [
      "Requirement already satisfied: PyPDF2 in c:\\users\\leonm_nn4oywt\\appdata\\local\\programs\\python\\python312\\lib\\site-packages (3.0.1)\n"
     ]
    },
    {
     "name": "stderr",
     "output_type": "stream",
     "text": [
      "\n",
      "[notice] A new release of pip is available: 24.3.1 -> 25.1\n",
      "[notice] To update, run: python.exe -m pip install --upgrade pip\n"
     ]
    }
   ],
   "source": [
    "!pip install PyPDF2"
   ]
  },
  {
   "cell_type": "code",
   "execution_count": 12,
   "id": "8b86c225-4d00-40d6-abd8-5635232e4ab5",
   "metadata": {},
   "outputs": [],
   "source": [
    "#Necessary libraries\n",
    "from PyPDF2 import PdfReader"
   ]
  },
  {
   "cell_type": "code",
   "execution_count": 13,
   "id": "a6950d84-2c36-4dad-a976-e6aa1de2f71a",
   "metadata": {},
   "outputs": [],
   "source": [
    "#Code to extract text from PDF:\n",
    "\n",
    "def extract_text_from_pdf(pdf_path):\n",
    "    \"\"\"\n",
    "    Extracts and returns all text from a PDF file given its file path.\n",
    "    \"\"\"\n",
    "    text = \"\"\n",
    "    with open(pdf_path, 'rb') as file:\n",
    "        reader = PdfReader(file)\n",
    "        for page in reader.pages:\n",
    "            text += page.extract_text() + \"\\n\"\n",
    "    return text"
   ]
  },
  {
   "cell_type": "markdown",
   "id": "778d09c4-b7fe-433d-a8c7-ae9c8351b205",
   "metadata": {},
   "source": [
    "# uploading the resume pdf as path"
   ]
  },
  {
   "cell_type": "code",
   "execution_count": 14,
   "id": "f012bdc8-ed2f-41bc-915f-844c193233df",
   "metadata": {},
   "outputs": [
    {
     "name": "stdout",
     "output_type": "stream",
     "text": [
      "Select a job role to evaluate against:\n",
      "1. ai engineer\n",
      "2. data scientist\n",
      "3. data analyst\n",
      "4. software engineer\n",
      "5. project manager\n",
      "6. web developer\n",
      "7. front end developer\n",
      "8. back end developer\n",
      "9. web designer\n",
      "10. full stack developer\n"
     ]
    },
    {
     "name": "stdin",
     "output_type": "stream",
     "text": [
      "Enter the number corresponding to the job role:  1\n"
     ]
    }
   ],
   "source": [
    "pdf_resume_path = \"resume.pdf\"  # Replace with the real path to the PDF file\n",
    "\n",
    "resume_text = extract_text_from_pdf(pdf_resume_path)\n",
    "\n",
    "# Select the job role to evaluate against\n",
    "# Define a dictionary to map user input to job roles\n",
    "job_roles = {\n",
    "    1: \"ai engineer\",\n",
    "    2: \"data scientist\",\n",
    "    3: \"data analyst\",\n",
    "    4: \"software engineer\",\n",
    "    5: \"project manager\",\n",
    "    6: \"web developer\",\n",
    "    7: \"front end developer\",\n",
    "    8: \"back end developer\",\n",
    "    9: \"web designer\",\n",
    "    10: \"full stack developer\"\n",
    "}\n",
    "\n",
    "# Prompt the user to select a job role\n",
    "print(\"Select a job role to evaluate against:\")\n",
    "for key, value in job_roles.items():\n",
    "    print(f\"{key}. {value}\")\n",
    "\n",
    "# Get user input\n",
    "try:\n",
    "    user_input = int(input(\"Enter the number corresponding to the job role: \"))\n",
    "    job_role = job_roles.get(user_input)  # Get the job role based on user input\n",
    "    if job_role is None:\n",
    "        raise ValueError(\"Invalid selection. Please select a valid job role.\")\n",
    "except ValueError as e:\n",
    "    print(e)\n",
    "    job_role = None  # Set job_role to None if input is invalid\n",
    "\n",
    "# Proceed only if a valid job role was selected\n",
    "if job_role:\n",
    "    # Grade the resume text\n",
    "    result = grade_resume_for_role(resume_text, job_role)\n",
    "\n",
    "else:\n",
    "    print(\"No valid job role selected. Exiting.\")"
   ]
  },
  {
   "cell_type": "code",
   "execution_count": 15,
   "id": "6783a802-4a13-46ce-ac00-037417934c47",
   "metadata": {},
   "outputs": [
    {
     "data": {
      "text/plain": [
       "{'Job Role': 'ai engineer',\n",
       " 'Grade': 'B',\n",
       " 'Skill Match Score': 0.53,\n",
       " 'Matched Skills': 'ai, aws, cloud, engineering, experience, expertise, java, learning, machine, model, networks, programming, python, skills, solutions, strong, understanding',\n",
       " 'Feedback': 'Good match. Consider improving on some key skills.'}"
      ]
     },
     "execution_count": 15,
     "metadata": {},
     "output_type": "execute_result"
    }
   ],
   "source": [
    "result"
   ]
  },
  {
   "cell_type": "code",
   "execution_count": 16,
   "id": "11565b37-61c1-4b89-9245-5c39303816c5",
   "metadata": {},
   "outputs": [
    {
     "name": "stdout",
     "output_type": "stream",
     "text": [
      "CERTIFICATIONSCONTACT\n",
      "SKILLS\n",
      "LANGUAGES+91 9989594937\n",
      "manisandeepms32m16@gmail.com\n",
      "PSR Avenue, Allipuram, Nellore\" Passionate and enthusiastic III-year undergraduate student with hands on\n",
      "work experience in building machine learning models, creating AI chatbots,\n",
      "and developing AI technology. Experienced in Figma web design, I\n",
      "specialize in posters, photos, and videos using Canva, Kinemaster, and\n",
      "InShot. Expertise with top AI tools, ComfyUI, Pictory.ai, Adobe Speech\n",
      "Enhance, and Gamma.ai allows me to always come up with creative ways\n",
      "and ensure efficiency in every project I do. My strong problem-solving\n",
      "abilities and team leadership ensure successful outcomes in dynamic\n",
      "environments. Ready to work with dedication and eager to grow.\"ManiSandeep.LinkedIn\n",
      "Certified Artificial Intelligence Intern\n",
      "IBM Skill Build AI Fundamentals\n",
      "Certification\n",
      "Figma Website Design Certification\n",
      "from GUVI’s Skill-A-Thon\n",
      "APSSDC AWS Cloud Computing\n",
      "Certified Java and Python programming\n",
      "Full-stack development\n",
      "Figma web responsive design\n",
      "AWS (Amazon Web Services) certified \n",
      "Machine learning model training\n",
      "Chatbot development\n",
      "AI tools expertise\n",
      "Leadership and communication skills \n",
      "MS Word proficiency\n",
      "Strong explanation skills\n",
      "Content creation and video editing\n",
      "English\n",
      "Telugu\n",
      "HindiMANI SANDEEP\n",
      "CONTENT CREATER & AI EXPERT\n",
      "W ORK EXPERIENCE\n",
      "EDUCATIONPROFILE\n",
      "APRIL -2024\n",
      "JULY - 2024 GUVI Skill-A-Thon\n",
      "GISTWeb Designer\n",
      "Pose Estimation and Posture CorrectionI designed and developed a responsive and adaptive website as part of the\n",
      "GUVI's Skill-A-Thon conducted under the GUVI Geek Networks, IITM\n",
      "Research Park. Passionate about user-friendly designs, I made sure the\n",
      "website worked flawlessly on multiple devices and screen sizes, proving\n",
      "my skills in modern web design principles. The experience improved my\n",
      "skills in Figma and deepened my dedication to quality digital solutions.\n",
      "Nvidia Jetson Nano, MediaPipe, OpenCV, Python, USB Camera |\n",
      "Developed a project with real-time feedback using the Nvidia Jetson Nano\n",
      "Eagle 101, leveraging AI for health and fitness applications. \n",
      "2022 -2026\n",
      "2020 – 2022Geethanjali Institute of Science and Technology\n",
      "Krishna Chaithanya Jr CollegePursuing Bachelor's Degree in Computer Science and\n",
      "Engineering\n",
      "Secondary Education JANUARY -2025APRIL -2025\n",
      " Intern OrbitEdunet Foundation\n",
      "ML Model Training Intern  AI Intern\n",
      "Nvidia Jetson Nano, MediaPipe, OpenCV, Python, USB Camera |\n",
      "Developed a project with real-time feedback using the Nvidia Jetson Nano\n",
      "Eagle 101, leveraging AI for health and fitness applications. I was well trained and guided throughout the program. I explored various\n",
      "fields in AI, including the basics, responsible AI, internet search and\n",
      "beyond, and even generative AI. This experience helped me gain a strong\n",
      "understanding of how AI works and how it can be used in real life.\n",
      "\n"
     ]
    }
   ],
   "source": [
    "print(resume_text)"
   ]
  },
  {
   "cell_type": "code",
   "execution_count": null,
   "id": "799b51cc-f036-4d5e-90b0-3c676d4e9dee",
   "metadata": {},
   "outputs": [],
   "source": []
  },
  {
   "cell_type": "code",
   "execution_count": null,
   "id": "cc30d907-d6cd-4236-b831-bf8c697ee1c9",
   "metadata": {},
   "outputs": [],
   "source": []
  }
 ],
 "metadata": {
  "kernelspec": {
   "display_name": "Python 3 (ipykernel)",
   "language": "python",
   "name": "python3"
  },
  "language_info": {
   "codemirror_mode": {
    "name": "ipython",
    "version": 3
   },
   "file_extension": ".py",
   "mimetype": "text/x-python",
   "name": "python",
   "nbconvert_exporter": "python",
   "pygments_lexer": "ipython3",
   "version": "3.11.7"
  }
 },
 "nbformat": 4,
 "nbformat_minor": 5
}
